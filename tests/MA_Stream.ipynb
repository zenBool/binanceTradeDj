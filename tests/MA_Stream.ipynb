{
 "cells": [
  {
   "cell_type": "code",
   "execution_count": 13,
   "metadata": {
    "pycharm": {
     "name": "#%%\n"
    }
   },
   "outputs": [],
   "source": [
    "from trade.binanceExch import Client\n",
    "from trade.binanceExch.indicators.MA import MA\n",
    "from dotenv import load_dotenv\n",
    "import pandas as pd\n",
    "\n",
    "\n",
    "load_dotenv('/home/jb/PycharmProjects/binanceTradeDj/binanceTrade/.env')\n",
    "\n",
    "# client = Client(base_url=\"https://testnet.binance.vision\")\n",
    "client = Client(test_mode=True)"
   ]
  },
  {
   "cell_type": "code",
   "execution_count": 14,
   "outputs": [],
   "source": [
    "columns = ['Open time','Open','High','Low','Close','Volume','Close time','Quote asset volume','Num_of_trades','Base_vol','Quote_vol','Ignr']\n",
    "\n",
    "def _add_column_ma(df, ma_period, prefix='ma_', col='Close'):\n",
    "    column_ma = prefix + str(ma_period)\n",
    "    df.loc[0, column_ma] = df.loc[0, col]\n",
    "    for i in range(1, len(df)):\n",
    "        df.loc[i, column_ma] = MA.ema(df.loc[i, col], df.loc[i - 1, column_ma], ma_period)\n",
    "\n",
    "    column_diff = prefix+'diff_' + str(ma_period)\n",
    "    df[column_diff] = MA.ema_delta(df[column_ma].shift(1), df[column_ma])\n",
    "\n",
    "# pandas.DataFrame.query -- выбрать строку DataFrame\n",
    "\n",
    "period = '1h'\n",
    "btcusdt = pd.DataFrame(client.klines(\"BTCUSDT\", period, limit=200), columns=columns)\n",
    "# btcusdt.set_index(\"Open time\")\n",
    "btcusdt['Close'] = btcusdt['Close'].astype('float')\n",
    "short_ma = 5\n",
    "middle_ma = 13\n",
    "long_ma = 34\n",
    "k = 2 / (short_ma + 1)\n",
    "# btcusdt['my_ma_'+str(short_ma)] = btcusdt['my_ma_'+str(short_ma)].rolling(1).add(1)\n",
    "btcusdt.loc[0, 'my_ma_'+str(short_ma)] = btcusdt.loc[0, 'Close']\n",
    "btcusdt.loc[0, 'my_ma_'+str(middle_ma)] = btcusdt.loc[0, 'Close']\n",
    "startma = btcusdt.at[0, 'Close']\n",
    "\n",
    "_add_column_ma(btcusdt, short_ma)\n",
    "_add_column_ma(btcusdt, middle_ma)\n",
    "_add_column_ma(btcusdt, long_ma)\n",
    "\n",
    "for i in range(1, len(btcusdt)):\n",
    "    btcusdt.loc[i, 'my_ma_'+str(short_ma)] = \\\n",
    "        btcusdt.loc[i, 'Close'] * k + btcusdt.loc[i-1, 'my_ma_'+str(short_ma)] * (1 - k)\n",
    "\n",
    "# btcusdt['ma_diff_'+str(short_ma)] = btcusdt['my_ma_'+str(short_ma)].shift(1) / btcusdt['my_ma_'+str(short_ma)] - 1\n",
    "# btcusdt['diff_ma_'+str(middle_ma)] = btcusdt['ma_'+str(middle_ma)].shift(1) / btcusdt['ma_'+str(middle_ma)] -1\n",
    "# btcusdt['diff_ma_'+str(long_ma)] = btcusdt['ma_'+str(long_ma)].shift(1) / btcusdt['ma_'+str(long_ma)] -1\n"
   ],
   "metadata": {
    "collapsed": false,
    "pycharm": {
     "name": "#%%\n"
    }
   }
  },
  {
   "cell_type": "code",
   "execution_count": 15,
   "outputs": [
    {
     "data": {
      "text/plain": "         Open time  ma_diff_5  ma_diff_13  ma_diff_34\n197  1657980000000  -0.001616    0.000794    0.000391\n198  1657983600000  -0.003212    0.001601    0.000738\n199  1657987200000  -0.002899    0.001699    0.000827",
      "text/html": "<div>\n<style scoped>\n    .dataframe tbody tr th:only-of-type {\n        vertical-align: middle;\n    }\n\n    .dataframe tbody tr th {\n        vertical-align: top;\n    }\n\n    .dataframe thead th {\n        text-align: right;\n    }\n</style>\n<table border=\"1\" class=\"dataframe\">\n  <thead>\n    <tr style=\"text-align: right;\">\n      <th></th>\n      <th>Open time</th>\n      <th>ma_diff_5</th>\n      <th>ma_diff_13</th>\n      <th>ma_diff_34</th>\n    </tr>\n  </thead>\n  <tbody>\n    <tr>\n      <th>197</th>\n      <td>1657980000000</td>\n      <td>-0.001616</td>\n      <td>0.000794</td>\n      <td>0.000391</td>\n    </tr>\n    <tr>\n      <th>198</th>\n      <td>1657983600000</td>\n      <td>-0.003212</td>\n      <td>0.001601</td>\n      <td>0.000738</td>\n    </tr>\n    <tr>\n      <th>199</th>\n      <td>1657987200000</td>\n      <td>-0.002899</td>\n      <td>0.001699</td>\n      <td>0.000827</td>\n    </tr>\n  </tbody>\n</table>\n</div>"
     },
     "execution_count": 15,
     "metadata": {},
     "output_type": "execute_result"
    }
   ],
   "source": [
    "btcusdt[['Open time', 'ma_diff_5', 'ma_diff_13', 'ma_diff_34']].tail(3)"
   ],
   "metadata": {
    "collapsed": false,
    "pycharm": {
     "name": "#%%\n"
    }
   }
  },
  {
   "cell_type": "code",
   "execution_count": 5,
   "outputs": [
    {
     "data": {
      "text/plain": "     a    b     c\n0    1  0.0   0.0\n1    2  5.0  10.0\n2    3  1.0   2.0\n3    4  0.0   0.0\n4    5  1.0   2.0\n5    6  0.0   0.0\n6    7  6.0  12.0\n7    8  1.0   2.0\n8    9  2.0   4.0\n9   10  0.0   0.0\n10  11  0.0   0.0",
      "text/html": "<div>\n<style scoped>\n    .dataframe tbody tr th:only-of-type {\n        vertical-align: middle;\n    }\n\n    .dataframe tbody tr th {\n        vertical-align: top;\n    }\n\n    .dataframe thead th {\n        text-align: right;\n    }\n</style>\n<table border=\"1\" class=\"dataframe\">\n  <thead>\n    <tr style=\"text-align: right;\">\n      <th></th>\n      <th>a</th>\n      <th>b</th>\n      <th>c</th>\n    </tr>\n  </thead>\n  <tbody>\n    <tr>\n      <th>0</th>\n      <td>1</td>\n      <td>0.0</td>\n      <td>0.0</td>\n    </tr>\n    <tr>\n      <th>1</th>\n      <td>2</td>\n      <td>5.0</td>\n      <td>10.0</td>\n    </tr>\n    <tr>\n      <th>2</th>\n      <td>3</td>\n      <td>1.0</td>\n      <td>2.0</td>\n    </tr>\n    <tr>\n      <th>3</th>\n      <td>4</td>\n      <td>0.0</td>\n      <td>0.0</td>\n    </tr>\n    <tr>\n      <th>4</th>\n      <td>5</td>\n      <td>1.0</td>\n      <td>2.0</td>\n    </tr>\n    <tr>\n      <th>5</th>\n      <td>6</td>\n      <td>0.0</td>\n      <td>0.0</td>\n    </tr>\n    <tr>\n      <th>6</th>\n      <td>7</td>\n      <td>6.0</td>\n      <td>12.0</td>\n    </tr>\n    <tr>\n      <th>7</th>\n      <td>8</td>\n      <td>1.0</td>\n      <td>2.0</td>\n    </tr>\n    <tr>\n      <th>8</th>\n      <td>9</td>\n      <td>2.0</td>\n      <td>4.0</td>\n    </tr>\n    <tr>\n      <th>9</th>\n      <td>10</td>\n      <td>0.0</td>\n      <td>0.0</td>\n    </tr>\n    <tr>\n      <th>10</th>\n      <td>11</td>\n      <td>0.0</td>\n      <td>0.0</td>\n    </tr>\n  </tbody>\n</table>\n</div>"
     },
     "execution_count": 5,
     "metadata": {},
     "output_type": "execute_result"
    }
   ],
   "source": [],
   "metadata": {
    "collapsed": false,
    "pycharm": {
     "name": "#%%\n"
    }
   }
  },
  {
   "cell_type": "code",
   "execution_count": null,
   "metadata": {
    "pycharm": {
     "name": "#%%\n"
    }
   },
   "outputs": [],
   "source": []
  }
 ],
 "metadata": {
  "kernelspec": {
   "display_name": "Python 3 (ipykernel)",
   "language": "python",
   "name": "python3"
  },
  "language_info": {
   "codemirror_mode": {
    "name": "ipython",
    "version": 3
   },
   "file_extension": ".py",
   "mimetype": "text/x-python",
   "name": "python",
   "nbconvert_exporter": "python",
   "pygments_lexer": "ipython3",
   "version": "3.10.4"
  }
 },
 "nbformat": 4,
 "nbformat_minor": 1
}